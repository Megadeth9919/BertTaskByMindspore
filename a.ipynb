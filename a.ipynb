{
 "cells": [
  {
   "cell_type": "code",
   "execution_count": 2,
   "metadata": {
    "collapsed": true,
    "ExecuteTime": {
     "end_time": "2023-10-04T02:25:55.550506100Z",
     "start_time": "2023-10-04T02:25:45.399871800Z"
    }
   },
   "outputs": [
    {
     "name": "stderr",
     "output_type": "stream",
     "text": [
      "D:\\Anaconda\\envs\\mindspore\\lib\\site-packages\\mindnlp-0.1.1-py3.9.egg\\mindnlp\\utils\\download.py:29: TqdmExperimentalWarning: Using `tqdm.autonotebook.tqdm` in notebook mode. Use `tqdm.tqdm` instead to force console mode (e.g. in jupyter console)\n",
      "  from tqdm.autonotebook import tqdm\n"
     ]
    }
   ],
   "source": [
    "from dataset import LoadSQuAD1DatasetForBert\n",
    "import mindspore\n",
    "import gradio as gr"
   ]
  },
  {
   "cell_type": "code",
   "execution_count": 22,
   "outputs": [],
   "source": [
    "from mindspore import dataset as ds\n",
    "\n",
    "def yield_data():\n",
    "    for _ in range(2):\n",
    "        yield 0, 'context', 'question', 0, 0\n",
    "infer_data = ds.GeneratorDataset(yield_data,\n",
    "                                 column_names=[\"id\", \"context\", \"question\",\n",
    "                                               \"answers\", \"answer_start\"])"
   ],
   "metadata": {
    "collapsed": false,
    "ExecuteTime": {
     "end_time": "2023-10-04T02:49:53.593900900Z",
     "start_time": "2023-10-04T02:49:53.588639300Z"
    }
   }
  },
  {
   "cell_type": "code",
   "execution_count": 24,
   "outputs": [
    {
     "name": "stdout",
     "output_type": "stream",
     "text": [
      "None\n"
     ]
    }
   ],
   "source": [
    "# for _ in infer_data.create_dict_iterator():\n",
    "    # pass\n",
    "print((infer_data.dataset_size))"
   ],
   "metadata": {
    "collapsed": false,
    "ExecuteTime": {
     "end_time": "2023-10-04T02:50:04.958734300Z",
     "start_time": "2023-10-04T02:50:04.947733800Z"
    }
   }
  },
  {
   "cell_type": "code",
   "execution_count": null,
   "outputs": [],
   "source": [],
   "metadata": {
    "collapsed": false
   }
  }
 ],
 "metadata": {
  "kernelspec": {
   "display_name": "Python 3",
   "language": "python",
   "name": "python3"
  },
  "language_info": {
   "codemirror_mode": {
    "name": "ipython",
    "version": 2
   },
   "file_extension": ".py",
   "mimetype": "text/x-python",
   "name": "python",
   "nbconvert_exporter": "python",
   "pygments_lexer": "ipython2",
   "version": "2.7.6"
  }
 },
 "nbformat": 4,
 "nbformat_minor": 0
}
